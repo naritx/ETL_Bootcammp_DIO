{
  "nbformat": 4,
  "nbformat_minor": 0,
  "metadata": {
    "colab": {
      "provenance": []
    },
    "kernelspec": {
      "name": "python3",
      "display_name": "Python 3"
    },
    "language_info": {
      "name": "python"
    }
  },
  "cells": [
    {
      "cell_type": "code",
      "execution_count": 124,
      "metadata": {
        "id": "Vt98piG9usyv"
      },
      "outputs": [],
      "source": [
        "import pandas as pd\n",
        "import csv"
      ]
    },
    {
      "cell_type": "code",
      "source": [
        "def organizacao_tabela(base):\n",
        "  #Leitura da tabela\n",
        "  df = pd.read_csv(base)\n",
        "  #Concatenação das colunas de nome\n",
        "  df['Nome Completo'] = df['Primeiro Nome'] + ' ' + df['Segundo Nome']\n",
        "  #Renomear a coluna de números como ID\n",
        "  df.rename(columns={'Número': 'ID'}, inplace = True)\n",
        "  df.rename(columns={'Valor da Compra': 'Valor Mes'}, inplace = True)\n",
        "  #Drop das colunas de nome antigas\n",
        "  df = df.drop('Primeiro Nome', axis = 1)\n",
        "  df = df.drop('Segundo Nome', axis = 1)\n",
        "  #Ordenando as linhas de acordo com as compras\n",
        "  df_ordenado = df.sort_values(by=['Valor Mes'], ascending=False)\n",
        "\n",
        "  print(f'Valores Ordenados\\n\\n {df_ordenado}')\n",
        "  return df_ordenado\n",
        "#Declarando df como uma variável global\n",
        "df = organizacao_tabela(base = '/content/Base_ficticia_loja.csv')\n",
        "\n",
        "#Funções que vão selecionar os primeiros e últimos do df\n",
        "def selec_top3(organizacao_tabela):\n",
        "  head3= df.head(3)\n",
        "  return head3\n",
        "#declarando como variável global\n",
        "head3 = selec_top3('/content/Base_ficticia_loja.csv')\n",
        "\n",
        "def selec_last3(organizacao_tabela):\n",
        "  tail3= df.tail(3)\n",
        "  return tail3\n",
        "#declarando como variável global\n",
        "tail3 = selec_last3('/content/Base_ficticia_loja.csv')"
      ],
      "metadata": {
        "colab": {
          "base_uri": "https://localhost:8080/"
        },
        "id": "UFNauBMTSnrl",
        "outputId": "4a5e223a-e0fb-46d0-ed9b-f253ba6e9e9b"
      },
      "execution_count": 125,
      "outputs": [
        {
          "output_type": "stream",
          "name": "stdout",
          "text": [
            "Valores Ordenados\n",
            "\n",
            "     ID  Valor Mes   Estado de Compra       Nome Completo\n",
            "32  32     410.20        Mato Grosso    Fernando Barbosa\n",
            "22  22     320.90       Minas Gerais      Paulo Carvalho\n",
            "38  38     315.70            Roraima    Vinícius Correia\n",
            "4    4     310.75  Rio Grande do Sul        Carlos Souza\n",
            "12  12     310.00        Mato Grosso       Roberto Souza\n",
            "24  24     280.60  Rio Grande do Sul         Lucas Silva\n",
            "2    2     220.30       Minas Gerais      Pedro Oliveira\n",
            "18  18     220.20            Roraima     Thiago Oliveira\n",
            "20  20     210.50          São Paulo         André Lopes\n",
            "29  29     210.30              Goiás   Patrícia Silveira\n",
            "8    8     200.45              Ceará      Marcos Pereira\n",
            "36  36     190.00               Acre  Daniel Albuquerque\n",
            "6    6     180.10             Paraná      Luiz Fernandes\n",
            "39  39     170.40           Maranhão      Carla Teixeira\n",
            "14  14     160.80           Rondônia        André Santos\n",
            "27  27     160.25         Pernambuco    Camila Rodrigues\n",
            "0    0     150.00          São Paulo          João Silva\n",
            "16  16     130.45               Acre      Gabriel Castro\n",
            "34  34     124.40           Rondônia        Thales Costa\n",
            "9    9     120.60              Goiás    Isabela Oliveira\n",
            "19  19     110.90           Maranhão    Carolina Pereira\n",
            "28  28     110.20              Ceará     Gustavo Almeida\n",
            "30  30      95.90     Espírito Santo        Eduardo Lima\n",
            "15  15      95.70          Tocantins       Beatriz Silva\n",
            "5    5      95.20     Santa Catarina       Laura Almeida\n",
            "25  25      92.75     Santa Catarina   Isabella Ferreira\n",
            "10  10      85.75     Espírito Santo    Renato Rodrigues\n",
            "23  23      85.20              Bahia        Marina Souza\n",
            "33  33      82.10           Amazonas       Mariana Gomes\n",
            "35  35      77.30          Tocantins     Larissa Pereira\n",
            "1    1      75.50     Rio de Janeiro        Maria Santos\n",
            "26  26      75.40             Paraná      Rafael Martins\n",
            "13  13      75.25           Amazonas          Júlia Lima\n",
            "7    7      62.30         Pernambuco       Juliana Costa\n",
            "17  17      57.30              Amapá     Patrícia Mendes\n",
            "37  37      53.80              Amapá         Sandra Melo\n",
            "3    3      45.90              Bahia         Ana Pereira\n",
            "21  21      45.70     Rio de Janeiro        Amanda Alves\n",
            "11  11      42.90            Sergipe       Lúcia Ribeiro\n",
            "31  31      37.60            Sergipe      Flávia Santana\n"
          ]
        }
      ]
    },
    {
      "cell_type": "code",
      "source": [
        "#Textos para mensagens como variável global, afim de economizar espaço e trabalho nas próximas funções\n",
        "texto_top3 = 'você está entre nossos principais clientes, por isso, estamos lhe oferecendo um cartão fidelidade da nossa loja! Sem custo algum, entre em contato com nosso suporte para obter os benefícios!'\n",
        "texto_last3 ='esta mensagem lhe concede um cumpom de desconto progressivo de até 40% off em qualquer compra em nossa loja! Não deixe de aproveitar a oportunidade!'\n"
      ],
      "metadata": {
        "id": "VeErIli-gd58"
      },
      "execution_count": 126,
      "outputs": []
    },
    {
      "cell_type": "code",
      "source": [
        "#Geração dos textos como itens de lista\n",
        "def geracao_top3(head3):\n",
        "  final_top3 = []\n",
        "  for primeiros in head3['Nome Completo']:\n",
        "    final_top3.append(f'Olá {primeiros}! {texto_top3}')\n",
        "  return final_top3\n",
        " #o retorno é a lista\n",
        "print(\"\")\n",
        "def geracao_last3(tail3):\n",
        "  final_last3 = []\n",
        "  for ultimos in tail3['Nome Completo']:\n",
        "    final_last3.append(f'Olá {ultimos}! {texto_last3}')\n",
        "  return final_last3\n",
        "  #o retorno é a lista"
      ],
      "metadata": {
        "colab": {
          "base_uri": "https://localhost:8080/"
        },
        "id": "zJMH2jQeXdnB",
        "outputId": "dfc1aac3-cdfa-4881-a1be-07303bcae351"
      },
      "execution_count": 127,
      "outputs": [
        {
          "output_type": "stream",
          "name": "stdout",
          "text": [
            "\n"
          ]
        }
      ]
    },
    {
      "cell_type": "code",
      "source": [
        "#Funções de Geração dos arquivos csv\n",
        "def csv_top3 (geracao_top3):\n",
        "  #Por conta dos acentos, foi necessário utilizar um encoding específico, uma vez que o utf-8 não era capaz de tal\n",
        "  with open ('top3.csv', 'w',newline = '', encoding = 'ISO-8859-1') as file:\n",
        "    writer = csv.writer(file)\n",
        "    #Estrutura de repetição para criar linhas, onde cada linha é um valor da lista\n",
        "    for i in range(3):\n",
        "      writer.writerow([geracao_top3[i-1]])\n",
        "    return True\n",
        "#Mesmas técnicas usadas acima\n",
        "def csv_last3(geracao_last3):\n",
        "  with open ('last3.csv', 'w',newline = '', encoding = 'ISO-8859-1') as file:\n",
        "    writer = csv.writer(file)\n",
        "    for i in range(3):\n",
        "      writer.writerow([geracao_last3[i-1]])\n",
        "    return True\n",
        "\n",
        ""
      ],
      "metadata": {
        "id": "BKgMOTMnaM7u"
      },
      "execution_count": 128,
      "outputs": []
    },
    {
      "cell_type": "code",
      "source": [
        "csv_top3(geracao_top3(head3))\n",
        "csv_last3(geracao_last3(tail3))\n"
      ],
      "metadata": {
        "id": "OKjqogBJJa1G",
        "colab": {
          "base_uri": "https://localhost:8080/"
        },
        "outputId": "9fd9c800-eb4d-4b4b-c669-2a64bdb984a3"
      },
      "execution_count": 129,
      "outputs": [
        {
          "output_type": "execute_result",
          "data": {
            "text/plain": [
              "True"
            ]
          },
          "metadata": {},
          "execution_count": 129
        }
      ]
    },
    {
      "cell_type": "code",
      "source": [],
      "metadata": {
        "id": "CrVEqTofiONI"
      },
      "execution_count": 129,
      "outputs": []
    }
  ]
}